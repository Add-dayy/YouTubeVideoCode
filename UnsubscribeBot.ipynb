{
 "cells": [
  {
   "cell_type": "code",
   "execution_count": null,
   "metadata": {},
   "outputs": [],
   "source": [
    "#Imports\n",
    "\n",
    "from __future__ import print_function\n",
    "\n",
    "from random import random\n",
    "from datetime import datetime\n",
    "import sys\n",
    "import re\n",
    "import webbrowser\n",
    "import time\n",
    "\n",
    "import os\n",
    "import pickle\n",
    "import google.oauth2.credentials\n",
    "from email.mime.text import MIMEText\n",
    "import base64\n",
    "\n",
    "from googleapiclient.discovery import build\n",
    "from googleapiclient.errors import HttpError\n",
    "from google_auth_oauthlib.flow import InstalledAppFlow\n",
    "from google.auth.transport.requests import Request\n",
    "from google.auth.transport.requests import Request\n",
    "from google.oauth2.credentials import Credentials"
   ]
  },
  {
   "cell_type": "code",
   "execution_count": null,
   "metadata": {},
   "outputs": [],
   "source": [
    "#register chrome webbrowser\n",
    "webbrowser.register('chrome', None, webbrowser.BackgroundBrowser(\"C://Program Files (x86)//Google//Chrome//Application//chrome.exe\"))"
   ]
  },
  {
   "cell_type": "code",
   "execution_count": null,
   "metadata": {},
   "outputs": [],
   "source": [
    "#we can read and write messages to our GMail\n",
    "SCOPES = [\n",
    "    'https://www.googleapis.com/auth/gmail.readonly'\n",
    "]"
   ]
  },
  {
   "cell_type": "code",
   "execution_count": null,
   "metadata": {},
   "outputs": [],
   "source": [
    "def get_authenticated_gmail_service():\n",
    "    \"\"\"\n",
    "    This function uses the token.json file to get an authenticated object used to talk to Gmail\n",
    "    \"\"\"\n",
    "\n",
    "    creds = None\n",
    "    API_SERVICE_NAME = 'gmail'\n",
    "    API_VERSION = 'v1'\n",
    "    \n",
    "    if os.path.exists('token.json'):\n",
    "        creds = Credentials.from_authorized_user_file('token.json', SCOPES)\n",
    "    \n",
    "    if not creds or not creds.valid:\n",
    "        if creds and creds.expired and creds.refresh_token:\n",
    "            creds.refresh(Request())\n",
    "        else:\n",
    "            flow = InstalledAppFlow.from_client_secrets_file(\n",
    "                'credentials.json', \n",
    "                SCOPES\n",
    "            )\n",
    "            creds = flow.run_local_server(port=0)\n",
    "        # Save the credentials for the next run\n",
    "        with open('token.pickle', 'wb') as token:\n",
    "            pickle.dump(creds, token)\n",
    "\n",
    "    return build('gmail', 'v1', credentials=creds)"
   ]
  },
  {
   "cell_type": "code",
   "execution_count": null,
   "metadata": {},
   "outputs": [],
   "source": [
    "#get the service\n",
    "service = get_authenticated_gmail_service()  "
   ]
  },
  {
   "cell_type": "code",
   "execution_count": null,
   "metadata": {},
   "outputs": [],
   "source": [
    "#get me last 3mo of messages which are in promotions folder and \n",
    "#which contain \"unsubscribe\" as an option\n",
    "result = service.users().messages().list(\n",
    "    userId='me', \n",
    "    q='\"unsubscribe\" AND category:promotions AND newer_than:90d'\n",
    ").execute()"
   ]
  },
  {
   "cell_type": "code",
   "execution_count": null,
   "metadata": {
    "scrolled": false
   },
   "outputs": [],
   "source": [
    "#number of links we've opened\n",
    "curr_open = 0\n",
    "\n",
    "#avoid opening duplicate links\n",
    "seen_urls = set()\n",
    "\n",
    "#for each message...\n",
    "for message in result['messages']:\n",
    "    #get the id\n",
    "    message_id = message.get('id')\n",
    "    \n",
    "    #get all info about that message\n",
    "    message_info =  service.users().messages().get(userId='me', id=message_id).execute()\n",
    "    \n",
    "    #for each header...\n",
    "    for h in message_info.get('payload').get('headers'):\n",
    "        #look out of the List-Unsubscribe header\n",
    "        if h.get('name') == 'List-Unsubscribe':\n",
    "            #get this url\n",
    "            url = re.findall(r'\\<(.*?)\\>', h.get('value'))[0]\n",
    "\n",
    "            #find first url with any of these extensions\n",
    "            for ext in ['.com', '.edu', '.net', '.gov']:\n",
    "                base_url = re.findall(f'(.*?{ext})', url)\n",
    "                if len(base_url) > 0:\n",
    "                    base = base_url[0]\n",
    "                    break\n",
    "            \n",
    "            #open the url in chrome\n",
    "            if url[:4] == 'http' and base not in seen_urls:\n",
    "                webbrowser.get('chrome').open(url)\n",
    "                seen_urls.add(base)\n",
    "                curr_open += 1\n",
    "\n",
    "    #can open max of 3 at a time so we don't spam the browser\n",
    "    if curr_open == 3:\n",
    "        answer = input('opened 3 tabs. type \"yes\" to continue. type \"no\" to stop. ')\n",
    "        if answer == \"yes\":\n",
    "            curr_open = 0\n",
    "        else:\n",
    "            break"
   ]
  },
  {
   "cell_type": "code",
   "execution_count": null,
   "metadata": {},
   "outputs": [],
   "source": []
  },
  {
   "cell_type": "code",
   "execution_count": null,
   "metadata": {},
   "outputs": [],
   "source": []
  },
  {
   "cell_type": "code",
   "execution_count": null,
   "metadata": {},
   "outputs": [],
   "source": []
  }
 ],
 "metadata": {
  "kernelspec": {
   "display_name": "Python 3",
   "language": "python",
   "name": "python3"
  },
  "language_info": {
   "codemirror_mode": {
    "name": "ipython",
    "version": 3
   },
   "file_extension": ".py",
   "mimetype": "text/x-python",
   "name": "python",
   "nbconvert_exporter": "python",
   "pygments_lexer": "ipython3",
   "version": "3.7.7"
  }
 },
 "nbformat": 4,
 "nbformat_minor": 4
}
