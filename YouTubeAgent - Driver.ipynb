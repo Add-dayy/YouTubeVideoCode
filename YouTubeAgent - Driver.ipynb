{
 "cells": [
  {
   "cell_type": "code",
   "execution_count": null,
   "id": "3c77be67",
   "metadata": {},
   "outputs": [],
   "source": [
    "from youtube_agent_utils import (\n",
    "    OPEN_AI_API_KEY,\n",
    "    get_authenticated_youtube_api,\n",
    "    get_views_snippet,\n",
    "    update_video_title,\n",
    "    get_last_n_videos_with_views,\n",
    "    get_openai_client,\n",
    "    chat,\n",
    "    get_messages\n",
    ")"
   ]
  },
  {
   "cell_type": "code",
   "execution_count": null,
   "id": "572a2b2d",
   "metadata": {},
   "outputs": [],
   "source": [
    "client = get_openai_client()"
   ]
  },
  {
   "cell_type": "code",
   "execution_count": null,
   "id": "3bd37f9a",
   "metadata": {},
   "outputs": [],
   "source": [
    "youtube = get_authenticated_youtube_api()\n",
    "last_n = 20\n",
    "last_n_videos = get_last_n_videos_with_views(youtube, last_n)\n",
    "VIDEO_ID = 'SET_YOUTUBE_VIDEO_ID_HERE'"
   ]
  },
  {
   "cell_type": "code",
   "execution_count": null,
   "id": "b7e80938",
   "metadata": {},
   "outputs": [],
   "source": [
    "from flask import Flask, render_template_string, request\n",
    "import json\n",
    "\n",
    "app = Flask(__name__)\n",
    "\n",
    "# HTML template\n",
    "HTML = \"\"\"\n",
    "<!DOCTYPE html>\n",
    "<html>\n",
    "    <head>\n",
    "        <title>Flask Text Processing</title>\n",
    "        <style>\n",
    "            body {\n",
    "                font-family: Arial, sans-serif;\n",
    "                font-size: 18px;\n",
    "                line-height: 1.6;\n",
    "            }\n",
    "            h1 {\n",
    "                font-size: 36px;\n",
    "            }\n",
    "            h2 {\n",
    "                font-size: 28px;\n",
    "            }\n",
    "            label {\n",
    "                font-size: 20px;\n",
    "            }\n",
    "            input {\n",
    "                font-size: 18px;\n",
    "                padding: 5px;\n",
    "                width: 600px;\n",
    "            }\n",
    "            button {\n",
    "                font-size: 18px;\n",
    "                padding: 5px 10px;\n",
    "            }\n",
    "            p {\n",
    "                font-size: 20px;\n",
    "            }\n",
    "        </style>\n",
    "    </head>\n",
    "    <body>\n",
    "        <h1>Text Processor</h1>\n",
    "        <form method=\"post\">\n",
    "            <label for=\"title\">New Video Description:</label>\n",
    "            <input type=\"text\" id=\"title\" name=\"desc\" value=\"{{ desc or '' }}\" required>\n",
    "            <button type=\"submit\">Submit</button>\n",
    "        </form>\n",
    "        {% if new_title and reasoning and url%}\n",
    "            <h2>New Title:</h2>\n",
    "            <p>{{ new_title }}</p>\n",
    "            <h2>Reasoning:</h2>\n",
    "            <p>{{ reasoning }}</p>\n",
    "            <h2>Video URL:</h2>\n",
    "            <p>{{ url }}</p>\n",
    "        {% endif %}\n",
    "    </body>\n",
    "</html>\n",
    "\"\"\""
   ]
  },
  {
   "cell_type": "code",
   "execution_count": null,
   "id": "c0e0dd26",
   "metadata": {},
   "outputs": [],
   "source": [
    "@app.route(\"/\", methods=[\"GET\", \"POST\"])\n",
    "def home():\n",
    "    desc = \"i am making a video on martingales\"\n",
    "    output = None\n",
    "    new_title = None\n",
    "    reasoning = None\n",
    "    url = None\n",
    "    if request.method == \"POST\":\n",
    "        # Get the input text from the form\n",
    "        desc = request.form.get(\"desc\")\n",
    "        # Call your function f with the input text\n",
    "        messages = get_messages(last_n_videos, desc)\n",
    "        output = chat(client, messages)\n",
    "        output = json.loads(output)\n",
    "        new_title = output['new_title']\n",
    "        reasoning = output['reasoning']\n",
    "        update_video_title(youtube, VIDEO_ID, new_title)\n",
    "        url = f'https://www.youtube.com/watch?v={VIDEO_ID}'\n",
    "    # Render the page with the current_title and output\n",
    "    return render_template_string(HTML, desc=desc, new_title=new_title, reasoning=reasoning, url=url)\n",
    "\n",
    "if __name__ == \"__main__\":\n",
    "    app.run(host=\"0.0.0.0\", port=5001)"
   ]
  },
  {
   "cell_type": "code",
   "execution_count": null,
   "id": "ffa43871",
   "metadata": {},
   "outputs": [],
   "source": []
  }
 ],
 "metadata": {
  "kernelspec": {
   "display_name": "Python 3 (ipykernel)",
   "language": "python",
   "name": "python3"
  },
  "language_info": {
   "codemirror_mode": {
    "name": "ipython",
    "version": 3
   },
   "file_extension": ".py",
   "mimetype": "text/x-python",
   "name": "python",
   "nbconvert_exporter": "python",
   "pygments_lexer": "ipython3",
   "version": "3.9.13"
  }
 },
 "nbformat": 4,
 "nbformat_minor": 5
}
